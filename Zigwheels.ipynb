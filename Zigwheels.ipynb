{
 "cells": [
  {
   "cell_type": "code",
   "execution_count": 10,
   "id": "35133b2b-a94f-440d-80ac-95e72e4ac87d",
   "metadata": {
    "tags": []
   },
   "outputs": [],
   "source": [
    "from bs4 import BeautifulSoup as bs\n",
    "import requests\n",
    "from urllib.request import urlopen\n",
    "import logging\n",
    "import pandas as pd\n",
    "import csv"
   ]
  },
  {
   "cell_type": "code",
   "execution_count": 6,
   "id": "69b36248-16f6-4d4c-bcb7-009394553012",
   "metadata": {
    "tags": []
   },
   "outputs": [],
   "source": [
    "zigwheel = \"https://www.zigwheels.com/\"+\"newbikes\""
   ]
  },
  {
   "cell_type": "code",
   "execution_count": 7,
   "id": "2da52395-a481-4c32-a624-e2deaf936f3f",
   "metadata": {
    "tags": []
   },
   "outputs": [
    {
     "data": {
      "text/plain": [
       "'https://www.zigwheels.com/newbikes'"
      ]
     },
     "execution_count": 7,
     "metadata": {},
     "output_type": "execute_result"
    }
   ],
   "source": [
    "zigwheel"
   ]
  },
  {
   "cell_type": "code",
   "execution_count": 8,
   "id": "f0135f02-634d-4fbe-8395-f333791d27de",
   "metadata": {
    "tags": []
   },
   "outputs": [],
   "source": [
    "urlclient = urlopen(zigwheel)"
   ]
  },
  {
   "cell_type": "code",
   "execution_count": 9,
   "id": "214ddfe3-251e-46e0-818a-f4f064c9724e",
   "metadata": {
    "tags": []
   },
   "outputs": [
    {
     "data": {
      "text/plain": [
       "<http.client.HTTPResponse at 0x1cd1b202170>"
      ]
     },
     "execution_count": 9,
     "metadata": {},
     "output_type": "execute_result"
    }
   ],
   "source": [
    "urlclient"
   ]
  },
  {
   "cell_type": "code",
   "execution_count": null,
   "id": "dda01406-e722-4ff2-aa06-891f3c162a71",
   "metadata": {
    "tags": []
   },
   "outputs": [],
   "source": [
    "zigwheel_read = urlclient.read()"
   ]
  },
  {
   "cell_type": "code",
   "execution_count": null,
   "id": "400109ed-e192-4f87-80ad-cbc01ec705d6",
   "metadata": {
    "tags": []
   },
   "outputs": [],
   "source": [
    "zigwheel_html = bs(zigwheel_read,'lxml')"
   ]
  },
  {
   "cell_type": "code",
   "execution_count": null,
   "id": "4a751199-cb6c-44e5-9cd3-18a192076ac4",
   "metadata": {
    "tags": []
   },
   "outputs": [],
   "source": [
    "zigwheel_html"
   ]
  },
  {
   "cell_type": "code",
   "execution_count": null,
   "id": "4ec0ca2f-5046-42e5-bd02-b06e933914f7",
   "metadata": {
    "tags": []
   },
   "outputs": [],
   "source": [
    "cars_manufacturer = zigwheel_html.find_all(\"div\",{\"class\":\"sl-card sh mb-10 pt-10\"})"
   ]
  },
  {
   "cell_type": "code",
   "execution_count": null,
   "id": "6b3c26b6-8403-424f-84a8-808e1f67df20",
   "metadata": {
    "tags": []
   },
   "outputs": [],
   "source": [
    "cars_manufacturer"
   ]
  },
  {
   "cell_type": "code",
   "execution_count": null,
   "id": "784a24e7-fb5b-40be-917d-db3b6e1e85ab",
   "metadata": {
    "tags": []
   },
   "outputs": [],
   "source": [
    "manufacturers = []\n",
    "for i in cars_manufacturer:\n",
    "    manufacturers.append('https://www.zigwheels.com'+i.a['href'])"
   ]
  },
  {
   "cell_type": "code",
   "execution_count": null,
   "id": "2aeedfa6-819e-41a8-87ed-886f3abebfb4",
   "metadata": {
    "tags": []
   },
   "outputs": [],
   "source": [
    "manufacturers"
   ]
  },
  {
   "cell_type": "code",
   "execution_count": null,
   "id": "84a47f37-5735-4442-8993-bf81a2cdeab9",
   "metadata": {
    "tags": []
   },
   "outputs": [],
   "source": [
    "tata = manufacturers[0]"
   ]
  },
  {
   "cell_type": "code",
   "execution_count": null,
   "id": "75a671cc-eb5c-4092-8f47-c54a8f537ab9",
   "metadata": {
    "tags": []
   },
   "outputs": [],
   "source": [
    "tata"
   ]
  },
  {
   "cell_type": "code",
   "execution_count": null,
   "id": "e104bdc0-fca8-4299-b9a4-ce9735d2df21",
   "metadata": {
    "tags": []
   },
   "outputs": [],
   "source": [
    "tata_client=urlopen(tata)"
   ]
  },
  {
   "cell_type": "code",
   "execution_count": null,
   "id": "3d3f2c1f-be98-4d95-aa15-2aa634c91b58",
   "metadata": {
    "tags": []
   },
   "outputs": [],
   "source": [
    "tata_client"
   ]
  },
  {
   "cell_type": "code",
   "execution_count": null,
   "id": "d4875d2c-2258-40ff-8832-5bec5cd95f55",
   "metadata": {
    "tags": []
   },
   "outputs": [],
   "source": [
    "tata_read=tata_client.read()"
   ]
  },
  {
   "cell_type": "code",
   "execution_count": null,
   "id": "8d1a847a-89a8-4098-801d-1465d344a6cf",
   "metadata": {
    "tags": []
   },
   "outputs": [],
   "source": [
    "tata_html = bs(tata_read,'lxml')"
   ]
  },
  {
   "cell_type": "code",
   "execution_count": null,
   "id": "da2457da-77d4-4cd3-9d34-4527595631f6",
   "metadata": {
    "tags": []
   },
   "outputs": [],
   "source": [
    "tata_html"
   ]
  },
  {
   "cell_type": "code",
   "execution_count": null,
   "id": "07476a6d-6821-4b8e-a1a9-1a7f1855c2cb",
   "metadata": {
    "tags": []
   },
   "outputs": [],
   "source": [
    "tata_cars = tata_html.find_all(\"h3\",{\"class\":\"lnk-hvr fnt-16 b block of-hid h-height ml-0 mb-0-imp\"})"
   ]
  },
  {
   "cell_type": "code",
   "execution_count": null,
   "id": "2c2a3130-87d6-4996-bc33-d7f6d1e517d8",
   "metadata": {
    "tags": []
   },
   "outputs": [],
   "source": [
    "tata_cars"
   ]
  },
  {
   "cell_type": "code",
   "execution_count": null,
   "id": "254818a1-b94b-4fa2-ad48-4c78c8d88129",
   "metadata": {
    "tags": []
   },
   "outputs": [],
   "source": [
    "tata_car_price = tata_html.find_all(\"div\",{\"class\":\"clr-bl\"})"
   ]
  },
  {
   "cell_type": "code",
   "execution_count": null,
   "id": "746363a1-e768-44dd-82c7-04688d443c08",
   "metadata": {
    "tags": []
   },
   "outputs": [],
   "source": [
    "tata_car_price"
   ]
  },
  {
   "cell_type": "code",
   "execution_count": null,
   "id": "62e7cd2e-8629-4f3c-9f74-b93071c03789",
   "metadata": {
    "tags": []
   },
   "outputs": [],
   "source": [
    "tata_car_details = []\n",
    "for i in range(0,len(tata_cars)):\n",
    "    tata_car_details.append(tata_cars[i].text)"
   ]
  },
  {
   "cell_type": "code",
   "execution_count": null,
   "id": "61e26bb6-ece0-493c-a2d4-af963cf56dfe",
   "metadata": {
    "tags": []
   },
   "outputs": [],
   "source": [
    "tata_car_details"
   ]
  },
  {
   "cell_type": "code",
   "execution_count": null,
   "id": "1aa259bf-f795-4830-bef7-31b393bbdaf6",
   "metadata": {
    "tags": []
   },
   "outputs": [],
   "source": [
    "len(tata_car_details)"
   ]
  },
  {
   "cell_type": "code",
   "execution_count": null,
   "id": "95980323-b437-48a2-8613-03c6340a6d65",
   "metadata": {
    "tags": []
   },
   "outputs": [],
   "source": [
    "tata_car_prices = []\n",
    "for i in range(0,len(tata_car_details)):\n",
    "               tata_car_prices.append(tata_car_price[i].text)"
   ]
  },
  {
   "cell_type": "code",
   "execution_count": null,
   "id": "1962f68f-0eba-45c0-a380-1a4d848cfe99",
   "metadata": {
    "tags": []
   },
   "outputs": [],
   "source": [
    "print(f\"Tata Car prices {tata_car_prices}\")\n",
    "print()\n",
    "print(f\"Tata Car Details {tata_car_details}\")"
   ]
  },
  {
   "cell_type": "code",
   "execution_count": null,
   "id": "113b1b0f-ae44-4687-8e50-de2a4fa5e4b0",
   "metadata": {
    "tags": []
   },
   "outputs": [],
   "source": [
    "kia = manufacturers[1]"
   ]
  },
  {
   "cell_type": "code",
   "execution_count": null,
   "id": "d3c18c85-de40-4e2a-be8b-d46bdabb44d8",
   "metadata": {
    "tags": []
   },
   "outputs": [],
   "source": [
    "kia"
   ]
  },
  {
   "cell_type": "code",
   "execution_count": null,
   "id": "f02558a6-b4f9-48e7-8b3f-6dc1252d0a80",
   "metadata": {
    "tags": []
   },
   "outputs": [],
   "source": [
    "kia_client=urlopen(kia)"
   ]
  },
  {
   "cell_type": "code",
   "execution_count": null,
   "id": "0084f96c-98fb-4bce-aa35-b48f9d3b1b85",
   "metadata": {
    "tags": []
   },
   "outputs": [],
   "source": [
    "kia_client"
   ]
  },
  {
   "cell_type": "code",
   "execution_count": null,
   "id": "50ee1837-e931-4e3e-8853-f325e406e17b",
   "metadata": {
    "tags": []
   },
   "outputs": [],
   "source": [
    "kia_read = kia_client.read()"
   ]
  },
  {
   "cell_type": "code",
   "execution_count": null,
   "id": "8983efde-eff7-4375-af7c-8fc98debc2c5",
   "metadata": {
    "tags": []
   },
   "outputs": [],
   "source": [
    "kia_html = bs(kia_read,'lxml')"
   ]
  },
  {
   "cell_type": "code",
   "execution_count": null,
   "id": "2f4337b1-b669-4435-aef2-2dfdaf38502b",
   "metadata": {
    "tags": []
   },
   "outputs": [],
   "source": [
    "kia_html"
   ]
  },
  {
   "cell_type": "code",
   "execution_count": null,
   "id": "800017f6-099b-4f8a-992f-2f0d47dc0083",
   "metadata": {
    "tags": []
   },
   "outputs": [],
   "source": [
    "kia_cars = kia_html.find_all(\"h3\",{\"class\":\"lnk-hvr fnt-16 b block of-hid h-height ml-0 mb-0-imp\"})"
   ]
  },
  {
   "cell_type": "code",
   "execution_count": null,
   "id": "30eaccf5-03e9-44cd-b411-15d4279830a3",
   "metadata": {
    "tags": []
   },
   "outputs": [],
   "source": [
    "kia_car_prices = kia_html.find_all(\"div\",{\"class\":\"clr-bl\"})"
   ]
  },
  {
   "cell_type": "code",
   "execution_count": null,
   "id": "4e01a20e-24dd-4f4c-9b3e-6e13027db630",
   "metadata": {
    "tags": []
   },
   "outputs": [],
   "source": [
    "kia_cars"
   ]
  },
  {
   "cell_type": "code",
   "execution_count": null,
   "id": "712dba3a-c188-4a97-a842-5ad6a45a9e47",
   "metadata": {
    "tags": []
   },
   "outputs": [],
   "source": [
    "kia_car_prices"
   ]
  },
  {
   "cell_type": "code",
   "execution_count": null,
   "id": "ac1cc1e0-90df-4914-977e-8268a1fb445e",
   "metadata": {
    "tags": []
   },
   "outputs": [],
   "source": [
    "kia_car_details=[]\n",
    "for i in range(0,len(kia_cars)):\n",
    "    kia_car_details.append(kia_cars[i].text)"
   ]
  },
  {
   "cell_type": "code",
   "execution_count": null,
   "id": "a829c015-0db3-4da4-9e93-2c216ebb2717",
   "metadata": {
    "tags": []
   },
   "outputs": [],
   "source": [
    "kia_car_price = []\n",
    "for i in range(0, len(kia_car_prices)):\n",
    "    kia_car_price.append(kia_car_prices[i].text)"
   ]
  },
  {
   "cell_type": "code",
   "execution_count": null,
   "id": "d95f93d0-611c-4c3f-b9b4-a1bb52b811d1",
   "metadata": {
    "tags": []
   },
   "outputs": [],
   "source": [
    "print(f\"Kia Car Names {kia_car_details}\")\n",
    "print()\n",
    "print(f\"Kia Car Price {kia_car_price}\")\n",
    "    "
   ]
  },
  {
   "cell_type": "code",
   "execution_count": null,
   "id": "e8cafdf1-df32-426e-ab2b-1d79307096ec",
   "metadata": {},
   "outputs": [],
   "source": [
    "manufacturers"
   ]
  },
  {
   "cell_type": "code",
   "execution_count": null,
   "id": "5772b89f-c1b8-45c3-adb5-8827683c41a7",
   "metadata": {
    "tags": []
   },
   "outputs": [],
   "source": [
    "maruti = manufacturers[2]"
   ]
  },
  {
   "cell_type": "code",
   "execution_count": null,
   "id": "f517bf06-0ac7-4268-98f4-7f45fa4b1758",
   "metadata": {
    "tags": []
   },
   "outputs": [],
   "source": [
    "maruti"
   ]
  },
  {
   "cell_type": "code",
   "execution_count": null,
   "id": "48ef9cf6-281f-4344-8271-531da3b4504e",
   "metadata": {
    "tags": []
   },
   "outputs": [],
   "source": [
    "maruti_client = urlopen(maruti)"
   ]
  },
  {
   "cell_type": "code",
   "execution_count": null,
   "id": "b60758e0-9d5e-4aff-968c-c4c8a962febd",
   "metadata": {
    "tags": []
   },
   "outputs": [],
   "source": [
    "maruti_client"
   ]
  },
  {
   "cell_type": "code",
   "execution_count": null,
   "id": "2d60738d-3530-49d6-9ada-694eb61da5d0",
   "metadata": {
    "tags": []
   },
   "outputs": [],
   "source": [
    "maruti_read = maruti_client.read()"
   ]
  },
  {
   "cell_type": "code",
   "execution_count": null,
   "id": "c45bb59d-efae-4581-a218-468e848204ae",
   "metadata": {
    "tags": []
   },
   "outputs": [],
   "source": [
    "maruti_html=bs(maruti_read,'lxml')"
   ]
  },
  {
   "cell_type": "code",
   "execution_count": null,
   "id": "e2ca984e-3d23-4100-ba2d-3b6e6de56d63",
   "metadata": {
    "tags": []
   },
   "outputs": [],
   "source": [
    "maruti_cars = maruti_html.find_all(\"h3\",{\"class\":\"lnk-hvr fnt-16 b block of-hid h-height ml-0 mb-0-imp\"})"
   ]
  },
  {
   "cell_type": "code",
   "execution_count": null,
   "id": "38433c05-c98e-4596-9cbc-046c79695aae",
   "metadata": {
    "tags": []
   },
   "outputs": [],
   "source": [
    "maruti_price = maruti_html.find_all(\"div\",{\"class\":\"clr-bl\"})"
   ]
  },
  {
   "cell_type": "code",
   "execution_count": null,
   "id": "c84f5c67-8acc-45aa-948d-c06d0577918b",
   "metadata": {
    "tags": []
   },
   "outputs": [],
   "source": [
    "maruti_cars_details= []\n",
    "for i in range(0,len(maruti_cars)):\n",
    "    maruti_cars_details.append(maruti_cars[i].text)"
   ]
  },
  {
   "cell_type": "code",
   "execution_count": null,
   "id": "7afdba53-aab4-466b-9500-d3287b95e5fd",
   "metadata": {
    "tags": []
   },
   "outputs": [],
   "source": [
    "maruti_cars_prices= []\n",
    "for i in range(0,len(maruti_price)):\n",
    "    maruti_cars_prices.append(maruti_price[i].text)"
   ]
  },
  {
   "cell_type": "code",
   "execution_count": null,
   "id": "8c772f09-6234-4db5-a028-d78cb08f300f",
   "metadata": {
    "tags": []
   },
   "outputs": [],
   "source": [
    "print(f\"Maruti Cars Name {maruti_cars_details}\")\n",
    "print()\n",
    "print(f\"Maruti Cars Price {maruti_cars_prices}\")"
   ]
  },
  {
   "cell_type": "code",
   "execution_count": null,
   "id": "78586c87-5d69-42f6-8cb5-09c5427755bc",
   "metadata": {
    "tags": []
   },
   "outputs": [],
   "source": [
    "hyundai = manufacturers[3]"
   ]
  },
  {
   "cell_type": "code",
   "execution_count": null,
   "id": "d435aab5-2f9f-4352-8b22-2d8e362800f9",
   "metadata": {
    "tags": []
   },
   "outputs": [],
   "source": [
    "hyundai"
   ]
  },
  {
   "cell_type": "code",
   "execution_count": null,
   "id": "baf9f5f9-0123-4deb-9f58-15fbcb770a01",
   "metadata": {
    "tags": []
   },
   "outputs": [],
   "source": [
    "hyundai_client = urlopen(hyundai)"
   ]
  },
  {
   "cell_type": "code",
   "execution_count": null,
   "id": "12c5b6d2-2df4-453d-adaf-f01f34704b46",
   "metadata": {
    "tags": []
   },
   "outputs": [],
   "source": [
    "hyundai_client"
   ]
  },
  {
   "cell_type": "code",
   "execution_count": null,
   "id": "e692a636-f186-4cb3-a09f-b9f8795b53b6",
   "metadata": {
    "tags": []
   },
   "outputs": [],
   "source": [
    "hyundai_read = hyundai_client.read()"
   ]
  },
  {
   "cell_type": "code",
   "execution_count": null,
   "id": "1e6aa45a-c10d-4228-8623-0f24eb3358f7",
   "metadata": {
    "tags": []
   },
   "outputs": [],
   "source": [
    "hyundai_html = bs(hyundai_read,'html.parser')"
   ]
  },
  {
   "cell_type": "code",
   "execution_count": null,
   "id": "2dbb3c13-e2cd-4ee9-ad4f-8d8e11cd557b",
   "metadata": {
    "tags": []
   },
   "outputs": [],
   "source": [
    "hyundai_cars = hyundai_html.find_all(\"h3\",{\"class\":\"lnk-hvr fnt-16 b block of-hid h-height ml-0 mb-0-imp\"})"
   ]
  },
  {
   "cell_type": "code",
   "execution_count": null,
   "id": "ef97ef22-e49d-4327-93d9-22b3cd434de6",
   "metadata": {
    "tags": []
   },
   "outputs": [],
   "source": [
    "hyundai_price = hyundai_html.find_all(\"div\",{\"class\":\"clr-bl\"})"
   ]
  },
  {
   "cell_type": "code",
   "execution_count": null,
   "id": "935aa6e4-bda4-405c-a96e-7113cbea3df5",
   "metadata": {
    "tags": []
   },
   "outputs": [],
   "source": [
    "hyundai_car_details = []\n",
    "for i in range(0,len(hyundai_cars)):\n",
    "    hyundai_car_details.append(hyundai_cars[i].text)"
   ]
  },
  {
   "cell_type": "code",
   "execution_count": null,
   "id": "688d04f1-22c6-4c8e-898c-bdc4a29f978b",
   "metadata": {
    "tags": []
   },
   "outputs": [],
   "source": [
    "hyundai_car_price = []\n",
    "for i in range(0,len(hyundai_price)):\n",
    "    hyundai_car_price.append(hyundai_price[i].text)"
   ]
  },
  {
   "cell_type": "code",
   "execution_count": null,
   "id": "0fe08cbf-085d-4df6-9c81-a0249b645ecb",
   "metadata": {
    "tags": []
   },
   "outputs": [],
   "source": [
    "print(f\"Hyundai Cars {hyundai_car_details}\")\n",
    "print()\n",
    "print(f\"Hyundai Price {hyundai_car_price}\")"
   ]
  },
  {
   "cell_type": "code",
   "execution_count": null,
   "id": "49bab400-5dc4-498f-90ca-20e2f955da5e",
   "metadata": {
    "tags": []
   },
   "outputs": [],
   "source": [
    "Maruti = pd.DataFrame(maruti_cars_details)"
   ]
  },
  {
   "cell_type": "code",
   "execution_count": null,
   "id": "118036e1-b366-4eb0-b880-9e779a157f2b",
   "metadata": {
    "tags": []
   },
   "outputs": [],
   "source": [
    "Maruti.to_csv(\"Car.csv\")"
   ]
  },
  {
   "cell_type": "code",
   "execution_count": null,
   "id": "220ffd2e-6868-434e-915a-234ca1c7fa9d",
   "metadata": {
    "tags": []
   },
   "outputs": [],
   "source": [
    "Tata = pd.DataFrame(tata_car_details)\n",
    "Tata.to_csv(\"Car.csv\",mode='a')"
   ]
  },
  {
   "cell_type": "code",
   "execution_count": null,
   "id": "fccac4db-ccf4-4cdf-9e15-4e922aba7365",
   "metadata": {
    "tags": []
   },
   "outputs": [],
   "source": [
    "Kia= pd.DataFrame(kia_car_details)\n"
   ]
  },
  {
   "cell_type": "code",
   "execution_count": null,
   "id": "431f0dcc-1127-4f2c-bdce-6baa260d6e1c",
   "metadata": {
    "tags": []
   },
   "outputs": [],
   "source": [
    "Kia.to_csv(\"Car.csv\",mode='a')"
   ]
  },
  {
   "cell_type": "code",
   "execution_count": null,
   "id": "df74b5f0-53a5-46a3-b3b0-ae11579fd389",
   "metadata": {
    "tags": []
   },
   "outputs": [],
   "source": [
    "Hyundai = pd.DataFrame(hyundai_car_details)\n",
    "Hyundai.to_csv(\"Car.csv\",mode='a')"
   ]
  },
  {
   "cell_type": "code",
   "execution_count": null,
   "id": "1e29d3f4-b09c-4686-9541-4d757c6e4515",
   "metadata": {
    "tags": []
   },
   "outputs": [],
   "source": [
    "Tata_Price = pd.DataFrame(tata_car_prices)\n",
    "Tata_Price.to_csv(\"Price.csv\")"
   ]
  },
  {
   "cell_type": "code",
   "execution_count": null,
   "id": "20ee94c7-e145-4d0b-82b9-b7c1a9f65ddc",
   "metadata": {
    "tags": []
   },
   "outputs": [],
   "source": [
    "Maruti_Price = pd.DataFrame(maruti_cars_prices)\n",
    "Maruti_Price.to_csv(\"Price.csv\",mode='a')"
   ]
  },
  {
   "cell_type": "code",
   "execution_count": null,
   "id": "548a9d3a-1ef4-45c4-a4f0-19243126f483",
   "metadata": {
    "tags": []
   },
   "outputs": [],
   "source": [
    "Kia_Price = pd.DataFrame(kia_car_price)\n",
    "Kia_Price.to_csv(\"Price.csv\",mode='a')"
   ]
  },
  {
   "cell_type": "code",
   "execution_count": null,
   "id": "c275b3ca-303e-4348-a549-8947241e8c2e",
   "metadata": {
    "tags": []
   },
   "outputs": [],
   "source": [
    "Hyundai_Price = pd.DataFrame(hyundai_car_price)\n",
    "Hyundai_Price.to_csv(\"Price.csv\",mode='a')"
   ]
  },
  {
   "cell_type": "code",
   "execution_count": null,
   "id": "6ce59b11-0b8f-4c31-91b7-714f2f24ee1e",
   "metadata": {
    "tags": []
   },
   "outputs": [],
   "source": [
    "mercedes  =  manufacturers[5]"
   ]
  },
  {
   "cell_type": "code",
   "execution_count": null,
   "id": "cb4d4112-84f2-463b-b666-12258e27b854",
   "metadata": {
    "tags": []
   },
   "outputs": [],
   "source": [
    "mercedes"
   ]
  },
  {
   "cell_type": "code",
   "execution_count": null,
   "id": "f06e5fe3-4e74-4e2a-9314-4b712cf10ee3",
   "metadata": {
    "tags": []
   },
   "outputs": [],
   "source": [
    "mercedes_client = urlopen(mercedes)"
   ]
  },
  {
   "cell_type": "code",
   "execution_count": null,
   "id": "145abf70-6b66-4dff-a482-7736ca1098eb",
   "metadata": {
    "tags": []
   },
   "outputs": [],
   "source": [
    "mercedes_read = mercedes_client.read()"
   ]
  },
  {
   "cell_type": "code",
   "execution_count": null,
   "id": "39bde252-71da-485c-99d9-2a73285bed57",
   "metadata": {
    "tags": []
   },
   "outputs": [],
   "source": [
    "mercedes_html = bs(mercedes_read,'lxml')"
   ]
  },
  {
   "cell_type": "code",
   "execution_count": null,
   "id": "43d9b9f3-a4e6-4bd8-8da7-2cb3bcf55760",
   "metadata": {
    "tags": []
   },
   "outputs": [],
   "source": [
    "mercedes_car = mercedes_html.find_all(\"h3\",{\"class\":\"lnk-hvr fnt-16 b block of-hid h-height ml-0 mb-0-imp\"})"
   ]
  },
  {
   "cell_type": "code",
   "execution_count": null,
   "id": "ce67a5c6-cc39-48ab-a3e1-46109d2f3a3d",
   "metadata": {
    "tags": []
   },
   "outputs": [],
   "source": [
    "mercedes_price = mercedes_html.find_all(\"div\",{\"class\":\"clr-bl\"})"
   ]
  },
  {
   "cell_type": "code",
   "execution_count": null,
   "id": "529aa775-ec75-462e-8800-3960595cb430",
   "metadata": {
    "tags": []
   },
   "outputs": [],
   "source": [
    "mercedes_car_details=[]\n",
    "for i in range(0,len(mercedes_car)):\n",
    "    mercedes_car_details.append(mercedes_car[i].text)"
   ]
  },
  {
   "cell_type": "code",
   "execution_count": null,
   "id": "2ba1bbaf-21a9-45e5-b09a-d4db39595174",
   "metadata": {
    "tags": []
   },
   "outputs": [],
   "source": [
    "mercedes_car_prices = []\n",
    "for i in range(0,len(mercedes_car)):\n",
    "    mercedes_car_prices.append(mercedes_price[i].text)"
   ]
  },
  {
   "cell_type": "code",
   "execution_count": null,
   "id": "9c8ac1e9-d21a-497f-9770-b6d6cf1a4a33",
   "metadata": {
    "tags": []
   },
   "outputs": [],
   "source": [
    "print(mercedes_car_details)\n",
    "print()\n",
    "print(mercedes_car_prices)"
   ]
  },
  {
   "cell_type": "code",
   "execution_count": null,
   "id": "b50e765e-e4e4-47c1-890f-f032e43b3d49",
   "metadata": {
    "tags": []
   },
   "outputs": [],
   "source": [
    "Mercedes = pd.DataFrame(mercedes_car_details)\n",
    "Mercedes.to_csv(\"Car.csv\",mode='a')"
   ]
  },
  {
   "cell_type": "code",
   "execution_count": null,
   "id": "4eb33bb4-a865-40c1-913b-9b1fac12e42c",
   "metadata": {
    "tags": []
   },
   "outputs": [],
   "source": [
    "Mercedes_price = pd.DataFrame(mercedes_car_prices)\n",
    "Mercedes_price.to_csv(\"Price.csv\",mode='a')"
   ]
  },
  {
   "cell_type": "code",
   "execution_count": null,
   "id": "36bc1904-943d-40e3-8f3b-d42ae638dec3",
   "metadata": {
    "tags": []
   },
   "outputs": [],
   "source": [
    "mahindra = manufacturers[4]"
   ]
  },
  {
   "cell_type": "code",
   "execution_count": null,
   "id": "55a80708-105a-46d5-815b-15071f26c0c7",
   "metadata": {
    "tags": []
   },
   "outputs": [],
   "source": [
    "mahindra"
   ]
  },
  {
   "cell_type": "code",
   "execution_count": null,
   "id": "56f83aa9-1bbc-4184-97ff-7c8103bbecc2",
   "metadata": {
    "tags": []
   },
   "outputs": [],
   "source": [
    "mahindra_client = urlopen(mahindra)"
   ]
  },
  {
   "cell_type": "code",
   "execution_count": null,
   "id": "e342554d-c398-4621-8f5e-cf2197badbb4",
   "metadata": {
    "tags": []
   },
   "outputs": [],
   "source": [
    "mahindra_read = mahindra_client.read()"
   ]
  },
  {
   "cell_type": "code",
   "execution_count": null,
   "id": "1456d799-32df-434f-a7e7-c172f9b366aa",
   "metadata": {
    "tags": []
   },
   "outputs": [],
   "source": [
    "mahindra_html = bs(mahindra_read,'lxml')"
   ]
  },
  {
   "cell_type": "code",
   "execution_count": null,
   "id": "9a912ff5-c5f8-4af3-a868-56dd50b1f0b8",
   "metadata": {
    "tags": []
   },
   "outputs": [],
   "source": [
    "mahindra_car = mahindra_html.find_all(\"h3\",{\"class\":\"lnk-hvr fnt-16 b block of-hid h-height ml-0 mb-0-imp\"})"
   ]
  },
  {
   "cell_type": "code",
   "execution_count": null,
   "id": "0e4fd0da-2670-4e9d-b706-26d04679c0a0",
   "metadata": {
    "tags": []
   },
   "outputs": [],
   "source": [
    "mahindra_car_price = mahindra_html.find_all(\"div\",{\"class\":\"clr-bl\"})"
   ]
  },
  {
   "cell_type": "code",
   "execution_count": null,
   "id": "2ce77ea8-1243-4882-9800-3032740ce95f",
   "metadata": {
    "tags": []
   },
   "outputs": [],
   "source": [
    "mahindra_car_details = []\n",
    "for i in range(0,len(mahindra_car)):\n",
    "    mahindra_car_details.append(mahindra_car[i].text)"
   ]
  },
  {
   "cell_type": "code",
   "execution_count": null,
   "id": "d42e6665-3f74-45ef-b8e5-afce97996483",
   "metadata": {
    "tags": []
   },
   "outputs": [],
   "source": [
    "mahindra_car_prices = []\n",
    "for i in range(0,len(mahindra_car)):\n",
    "    mahindra_car_prices.append(mahindra_car_price[i].text)"
   ]
  },
  {
   "cell_type": "code",
   "execution_count": null,
   "id": "69a95fea-224f-45c5-9b65-a003e64c420d",
   "metadata": {
    "tags": []
   },
   "outputs": [],
   "source": [
    "Mahindra_car = pd.DataFrame(mahindra_car_details)"
   ]
  },
  {
   "cell_type": "code",
   "execution_count": null,
   "id": "d597847e-adab-4384-9c37-a17159c57e93",
   "metadata": {
    "tags": []
   },
   "outputs": [],
   "source": [
    "Mahindra_price = pd.DataFrame(mahindra_car_prices)"
   ]
  },
  {
   "cell_type": "code",
   "execution_count": null,
   "id": "47a1097d-586f-49bc-919e-3cabe24172af",
   "metadata": {
    "tags": []
   },
   "outputs": [],
   "source": [
    "Mahindra_car.to_csv(\"Car.csv\",mode='a')"
   ]
  },
  {
   "cell_type": "code",
   "execution_count": null,
   "id": "71fa75a2-7936-4939-9846-ac4528a19837",
   "metadata": {
    "tags": []
   },
   "outputs": [],
   "source": [
    "Mahindra_price.to_csv(\"Price.csv\",mode='a')"
   ]
  },
  {
   "cell_type": "code",
   "execution_count": null,
   "id": "c520a888-83e1-4b51-b134-7f3f349de274",
   "metadata": {
    "tags": []
   },
   "outputs": [],
   "source": [
    "renault = manufacturers[6]"
   ]
  },
  {
   "cell_type": "code",
   "execution_count": null,
   "id": "c756ae35-a35f-43ea-b9a6-65a6e9d6b622",
   "metadata": {
    "tags": []
   },
   "outputs": [],
   "source": [
    "renault_client = urlopen(renault)"
   ]
  },
  {
   "cell_type": "code",
   "execution_count": null,
   "id": "a2dea57e-9804-4c97-a4c7-48547be5e6e0",
   "metadata": {
    "tags": []
   },
   "outputs": [],
   "source": [
    "renault_read = renault_client.read()"
   ]
  },
  {
   "cell_type": "code",
   "execution_count": null,
   "id": "4e765805-216c-421a-b77b-c670af09e50e",
   "metadata": {
    "tags": []
   },
   "outputs": [],
   "source": [
    "renault_html = bs(renault_read,'lxml')"
   ]
  },
  {
   "cell_type": "code",
   "execution_count": null,
   "id": "9e0895bc-42b0-487a-a2fe-4c8b0ae74e8d",
   "metadata": {
    "tags": []
   },
   "outputs": [],
   "source": [
    "renault_car = renault_html.find_all(\"h3\",{\"class\":\"lnk-hvr fnt-16 b block of-hid h-height ml-0 mb-0-imp\"})"
   ]
  },
  {
   "cell_type": "code",
   "execution_count": null,
   "id": "0f8ed005-e2fb-40a7-9d33-96bc20f937bc",
   "metadata": {
    "tags": []
   },
   "outputs": [],
   "source": [
    "renault_price = renault_html.find_all(\"div\",{\"class\":\"clr-bl\"})"
   ]
  },
  {
   "cell_type": "code",
   "execution_count": null,
   "id": "2e2a1b96-8f16-4f49-bad1-de47f88e1293",
   "metadata": {
    "tags": []
   },
   "outputs": [],
   "source": [
    "renault_car_details = []\n",
    "for i in range(0,len(renault_car)):\n",
    "    renault_car_details.append(renault_car[i].text)"
   ]
  },
  {
   "cell_type": "code",
   "execution_count": null,
   "id": "10a73e40-e01c-481c-84f2-09d5f610e846",
   "metadata": {
    "tags": []
   },
   "outputs": [],
   "source": [
    "renault_prices = []\n",
    "for i in range(0,len(renault_car)):\n",
    "    renault_prices.append(renault_price[i].text)"
   ]
  },
  {
   "cell_type": "code",
   "execution_count": null,
   "id": "676b7af9-260d-4e9f-b639-9c05a33b573f",
   "metadata": {
    "tags": []
   },
   "outputs": [],
   "source": [
    "Renault_car = pd.DataFrame(renault_car_details)\n",
    "Renault_price = pd.DataFrame(renault_prices)"
   ]
  },
  {
   "cell_type": "code",
   "execution_count": null,
   "id": "293cfd56-e71e-49db-9758-d2d6c83351d3",
   "metadata": {
    "tags": []
   },
   "outputs": [],
   "source": [
    "Renault_car.to_csv(\"Car.csv\",mode='a')"
   ]
  },
  {
   "cell_type": "code",
   "execution_count": null,
   "id": "fb94db84-3cd5-431a-baff-f9cedbf02282",
   "metadata": {
    "tags": []
   },
   "outputs": [],
   "source": [
    "Renault_price.to_csv(\"Price.csv\",mode='a')"
   ]
  },
  {
   "cell_type": "code",
   "execution_count": null,
   "id": "925ce72c-df5b-44e0-94b3-9eff581aaadb",
   "metadata": {
    "tags": []
   },
   "outputs": [],
   "source": [
    "honda = manufacturers[7]"
   ]
  },
  {
   "cell_type": "code",
   "execution_count": null,
   "id": "12fdf380-1186-47e8-9682-01df38966d41",
   "metadata": {
    "tags": []
   },
   "outputs": [],
   "source": [
    "honda_client = urlopen(honda)"
   ]
  },
  {
   "cell_type": "code",
   "execution_count": null,
   "id": "a7aaade4-df98-4853-afbe-1d9492ba71d6",
   "metadata": {
    "tags": []
   },
   "outputs": [],
   "source": [
    "honda_read = honda_client.read()"
   ]
  },
  {
   "cell_type": "code",
   "execution_count": null,
   "id": "134e481c-8a44-4236-9212-bb124339d6c8",
   "metadata": {
    "tags": []
   },
   "outputs": [],
   "source": [
    "honda_html =  bs(honda_read,'lxml')"
   ]
  },
  {
   "cell_type": "code",
   "execution_count": null,
   "id": "73c06bab-72c6-443c-8ca5-22c64cd609e7",
   "metadata": {
    "tags": []
   },
   "outputs": [],
   "source": [
    "honda_car = honda_html.find_all(\"h3\",{\"class\":\"lnk-hvr fnt-16 b block of-hid h-height ml-0 mb-0-imp\"})"
   ]
  },
  {
   "cell_type": "code",
   "execution_count": null,
   "id": "22ffb779-865c-4f43-b698-4b05f7039883",
   "metadata": {
    "tags": []
   },
   "outputs": [],
   "source": [
    "honda_price = honda_html.find_all(\"div\",{\"class\":\"clr-bl\"})"
   ]
  },
  {
   "cell_type": "code",
   "execution_count": null,
   "id": "5bd918ef-6663-449f-8120-85ac7714483d",
   "metadata": {
    "tags": []
   },
   "outputs": [],
   "source": [
    "honda_car_details = []\n",
    "for i in range(0,len(honda_car)):\n",
    "    honda_car_details.append(honda_car[i].text)"
   ]
  },
  {
   "cell_type": "code",
   "execution_count": null,
   "id": "bcee6c3c-d945-48e8-b464-8a6c269ea30b",
   "metadata": {
    "tags": []
   },
   "outputs": [],
   "source": [
    "honda_prices = []\n",
    "for i in range(0,len(honda_car)):\n",
    "    honda_prices.append(honda_price[i].text)"
   ]
  },
  {
   "cell_type": "code",
   "execution_count": null,
   "id": "18cb3769-3fc8-45bb-8e7d-7e8391cbb6d4",
   "metadata": {
    "tags": []
   },
   "outputs": [],
   "source": [
    "Honda_cars = pd.DataFrame(honda_car_details)\n",
    "Honda_cars.to_csv(\"Car.csv\",mode='a')"
   ]
  },
  {
   "cell_type": "code",
   "execution_count": null,
   "id": "728c6c81-b280-457d-87ab-6c0640a87196",
   "metadata": {
    "tags": []
   },
   "outputs": [],
   "source": [
    "Honda_prices = pd.DataFrame(honda_prices)\n",
    "Honda_prices.to_csv(\"Price.csv\",mode='a')"
   ]
  },
  {
   "cell_type": "code",
   "execution_count": null,
   "id": "fc564e1e-cad6-4282-bc54-bb9769f769d8",
   "metadata": {
    "tags": []
   },
   "outputs": [],
   "source": [
    "mg = manufacturers[8]"
   ]
  },
  {
   "cell_type": "code",
   "execution_count": null,
   "id": "424e00bf-8e10-4303-b1b9-2a85cb7e2ffe",
   "metadata": {
    "tags": []
   },
   "outputs": [],
   "source": [
    "mg_client = urlopen(mg)"
   ]
  },
  {
   "cell_type": "code",
   "execution_count": null,
   "id": "ccb011f0-caeb-48b8-b7b9-cbae4c642a14",
   "metadata": {
    "tags": []
   },
   "outputs": [],
   "source": [
    "mg_read=mg_client.read()"
   ]
  },
  {
   "cell_type": "code",
   "execution_count": null,
   "id": "54155fa7-c74c-40d3-acd7-9b3a315ed64b",
   "metadata": {
    "tags": []
   },
   "outputs": [],
   "source": [
    "mg_html = bs(mg_read,'lxml')"
   ]
  },
  {
   "cell_type": "code",
   "execution_count": null,
   "id": "59c842ff-6e9d-4abe-a75f-6ca601b58e6d",
   "metadata": {
    "tags": []
   },
   "outputs": [],
   "source": [
    "mg_car = mg_html.find_all(\"h3\",{\"class\":\"lnk-hvr fnt-16 b block of-hid h-height ml-0 mb-0-imp\"})"
   ]
  },
  {
   "cell_type": "code",
   "execution_count": null,
   "id": "4a0a8239-88b5-4e2f-a2b8-35bf4ccbc3e6",
   "metadata": {
    "tags": []
   },
   "outputs": [],
   "source": [
    "mg_price =  mg_html.find_all(\"div\",{\"class\":\"clr-bl\"})"
   ]
  },
  {
   "cell_type": "code",
   "execution_count": null,
   "id": "ffad5ffa-0f94-4eac-8c5b-d9c6c3e830ae",
   "metadata": {
    "tags": []
   },
   "outputs": [],
   "source": [
    "mg_car_details = []\n",
    "for i in range(0,len(mg_car)):\n",
    "    mg_car_details.append(mg_car[i].text)\n",
    "Mg_car = pd.DataFrame(mg_car_details)\n",
    "Mg_car.to_csv(\"Car.csv\",mode='a')"
   ]
  },
  {
   "cell_type": "code",
   "execution_count": null,
   "id": "d73d7664-45a8-4d3e-88f6-12513ddae93e",
   "metadata": {
    "tags": []
   },
   "outputs": [],
   "source": [
    "mg_prices = []\n",
    "for i in range(0,len(mg_car)):\n",
    "    mg_prices.append(mg_price[i].text)\n",
    "Mg_price = pd.DataFrame(mg_prices)\n",
    "Mg_price.to_csv(\"Price.csv\",mode='a')"
   ]
  },
  {
   "cell_type": "code",
   "execution_count": null,
   "id": "ff9570fb-fb9f-41d6-8e26-30802a8f28b1",
   "metadata": {
    "tags": []
   },
   "outputs": [],
   "source": [
    "nissan = manufacturers[9]\n",
    "nissan_client = urlopen(nissan)\n",
    "nissan_read = nissan_client.read()\n",
    "nissan_html = bs(nissan_read,'lxml')"
   ]
  },
  {
   "cell_type": "code",
   "execution_count": null,
   "id": "491a5b37-8cbd-47d0-a596-f589e5f4c5f2",
   "metadata": {
    "tags": []
   },
   "outputs": [],
   "source": [
    "nissan_car = nissan_html.find_all(\"h3\",{\"class\":\"lnk-hvr fnt-16 b block of-hid h-height ml-0 mb-0-imp\"})\n",
    "nissan_price = nissan_html.find_all(\"div\",{\"class\":\"clr-bl\"})\n",
    "nissan_car_details = []\n",
    "nissan_prices = []\n",
    "for i in range(0,len(nissan_car)):\n",
    "    nissan_car_details.append(nissan_car[i].text)\n",
    "    nissan_prices.append(nissan_price[i].text)\n",
    "Nissan_car = pd.DataFrame(nissan_car_details)\n",
    "Nissan_car.to_csv(\"Car.csv\",mode='a')\n",
    "Nissan_price = pd.DataFrame(nissan_prices)\n",
    "Nissan_price.to_csv(\"Price.csv\",mode='a')"
   ]
  },
  {
   "cell_type": "code",
   "execution_count": null,
   "id": "59b57d97-84df-4e53-905d-172272f067e3",
   "metadata": {
    "tags": []
   },
   "outputs": [],
   "source": [
    "toyota = manufacturers[10]\n",
    "toyota_client = urlopen(toyota)\n",
    "toyota_read = toyota_client.read()\n",
    "toyota_html =bs(toyota_read,\"lxml\")\n",
    "toyota_car = toyota_html.find_all(\"h3\",{\"class\":\"lnk-hvr fnt-16 b block of-hid h-height ml-0 mb-0-imp\"})\n",
    "toyota_price = toyota_html.find_all(\"div\",{\"class\":\"clr-bl\"})\n",
    "toyota_car_details = []\n",
    "toyota_prices = []\n",
    "for i in range(0,len(toyota_car)):\n",
    "    toyota_car_details.append(toyota_car[i].text)\n",
    "    toyota_prices.append(toyota_price[i].text)\n",
    "Toyota_car = pd.DataFrame(toyota_car_details)\n",
    "Toyota_car.to_csv(\"Car.csv\",mode='a')\n",
    "Toyota_price = pd.DataFrame(toyota_prices)\n",
    "Toyota_price.to_csv(\"Price.csv\",mode='a')"
   ]
  },
  {
   "cell_type": "code",
   "execution_count": null,
   "id": "a8a25321-6601-44a1-bddc-70aeea11a590",
   "metadata": {
    "tags": []
   },
   "outputs": [],
   "source": [
    "skoda = manufacturers[11]\n",
    "skoda_client = urlopen(skoda)\n",
    "skoda_read = skoda_client.read()\n",
    "skoda_html =bs(skoda_read,\"lxml\")\n",
    "skoda_car = skoda_html.find_all(\"h3\",{\"class\":\"lnk-hvr fnt-16 b block of-hid h-height ml-0 mb-0-imp\"})\n",
    "skoda_price = skoda_html.find_all(\"div\",{\"class\":\"clr-bl\"})\n",
    "skoda_car_details = []\n",
    "skoda_prices = []\n",
    "for i in range(0,len(skoda_car)):\n",
    "    skoda_car_details.append(skoda_car[i].text)\n",
    "    skoda_prices.append(skoda_price[i].text)\n",
    "Skoda_car = pd.DataFrame(skoda_car_details)\n",
    "Skoda_car.to_csv(\"Car.csv\",mode='a')\n",
    "Skoda_price = pd.DataFrame(skoda_prices)\n",
    "Skoda_price.to_csv(\"Price.csv\",mode='a')"
   ]
  },
  {
   "cell_type": "code",
   "execution_count": null,
   "id": "62d4fb74-29ca-4990-92cc-416b829b14d1",
   "metadata": {
    "tags": []
   },
   "outputs": [],
   "source": [
    "ford = manufacturers[12]\n",
    "ford_client = urlopen(ford)\n",
    "ford_read = ford_client.read()\n",
    "ford_html =bs(ford_read,\"lxml\")\n",
    "ford_car = ford_html.find_all(\"h3\",{\"class\":\"lnk-hvr fnt-16 b block of-hid h-height ml-0 mb-0-imp\"})\n",
    "ford_price = ford_html.find_all(\"div\",{\"class\":\"clr-bl\"})\n",
    "ford_car_details = []\n",
    "ford_prices = []\n",
    "for i in range(0,len(ford_car)):\n",
    "    ford_car_details.append(ford_car[i].text)\n",
    "    ford_prices.append(ford_price[i].text)\n",
    "Ford_car = pd.DataFrame(ford_car_details)\n",
    "Ford_car.to_csv(\"Car.csv\",mode='a')\n",
    "Ford_price = pd.DataFrame(ford_prices)\n",
    "Ford_price.to_csv(\"Price.csv\",mode='a')"
   ]
  },
  {
   "cell_type": "code",
   "execution_count": null,
   "id": "25e73bc6-d8eb-42a2-b8ff-7629b41d6daa",
   "metadata": {
    "tags": []
   },
   "outputs": [],
   "source": [
    "volkswagen = manufacturers[13]\n",
    "volkswagen_client = urlopen(volkswagen)\n",
    "volkswagen_read = volkswagen_client.read()\n",
    "volkswagen_html =bs(volkswagen_read,\"lxml\")\n",
    "volkswagen_car = volkswagen_html.find_all(\"h3\",{\"class\":\"lnk-hvr fnt-16 b block of-hid h-height ml-0 mb-0-imp\"})\n",
    "volkswagen_price = volkswagen_html.find_all(\"div\",{\"class\":\"clr-bl\"})\n",
    "volkswagen_car_details = []\n",
    "volkswagen_prices = []\n",
    "for i in range(0,len(volkswagen_car)):\n",
    "    volkswagen_car_details.append(volkswagen_car[i].text)\n",
    "    volkswagen_prices.append(volkswagen_price[i].text)\n",
    "Volkswagen_car = pd.DataFrame(volkswagen_car_details)\n",
    "Volkswagen_car.to_csv(\"Car.csv\",mode='a')\n",
    "Volkswagen_price = pd.DataFrame(volkswagen_prices)\n",
    "Volkswagen_price.to_csv(\"Price.csv\",mode='a')"
   ]
  },
  {
   "cell_type": "code",
   "execution_count": null,
   "id": "2b34c1f3-f57f-4fbb-b741-806fb7d65bb8",
   "metadata": {
    "tags": []
   },
   "outputs": [],
   "source": [
    "jeep = manufacturers[14]\n",
    "jeep_client = urlopen(jeep)\n",
    "jeep_read = jeep_client.read()\n",
    "jeep_html =bs(jeep_read,\"lxml\")\n",
    "jeep_car = jeep_html.find_all(\"h3\",{\"class\":\"lnk-hvr fnt-16 b block of-hid h-height ml-0 mb-0-imp\"})\n",
    "jeep_price = jeep_html.find_all(\"div\",{\"class\":\"clr-bl\"})\n",
    "jeep_car_details = []\n",
    "jeep_prices = []\n",
    "for i in range(0,len(jeep_car)):\n",
    "    jeep_car_details.append(jeep_car[i].text)\n",
    "    jeep_prices.append(jeep_price[i].text)\n",
    "Jeep_car = pd.DataFrame(jeep_car_details)\n",
    "Jeep_car.to_csv(\"Car.csv\",mode='a')\n",
    "Jeep_price = pd.DataFrame(jeep_prices)\n",
    "Jeep_price.to_csv(\"Price.csv\",mode='a')"
   ]
  },
  {
   "cell_type": "code",
   "execution_count": null,
   "id": "f74cd90f-b10e-4f55-9d86-71375bd6af3c",
   "metadata": {
    "tags": []
   },
   "outputs": [],
   "source": [
    "isuzu = manufacturers[15]\n",
    "isuzu_client = urlopen(isuzu)\n",
    "isuzu_read = isuzu_client.read()\n",
    "isuzu_html =bs(isuzu_read,\"lxml\")\n",
    "isuzu_car = isuzu_html.find_all(\"h3\",{\"class\":\"lnk-hvr fnt-16 b block of-hid h-height ml-0 mb-0-imp\"})\n",
    "isuzu_price =isuzu_html.find_all(\"div\",{\"class\":\"clr-bl\"})\n",
    "isuzu_car_details = []\n",
    "isuzu_prices = []\n",
    "for i in range(0,len(isuzu_car)):\n",
    "    isuzu_car_details.append(isuzu_car[i].text)\n",
    "    isuzu_prices.append(isuzu_price[i].text)\n",
    "Isuzu_car = pd.DataFrame(isuzu_car_details)\n",
    "Isuzu_car.to_csv(\"Car.csv\",mode='a')\n",
    "Isuzu_price = pd.DataFrame(isuzu_prices)\n",
    "Isuzu_price.to_csv(\"Price.csv\",mode='a')"
   ]
  },
  {
   "cell_type": "code",
   "execution_count": null,
   "id": "bfcdae8b-9348-46d4-9cd4-bb32a281efd0",
   "metadata": {
    "tags": []
   },
   "outputs": [],
   "source": [
    "for i in range(16,len(manufacturers)):\n",
    "    brand = manufacturers[i]\n",
    "    brand_client = urlopen(brand)\n",
    "    brand_read = brand_client.read()\n",
    "    brand_html = bs(brand_read,'lxml')\n",
    "    brand_car = brand_html.find_all(\"h3\",{\"class\":\"lnk-hvr fnt-16 b block of-hid h-height ml-0 mb-0-imp\"})\n",
    "    brand_price = brand_html.find_all(\"div\",{\"class\":\"clr-bl\"})\n",
    "    brand_car_details =[]\n",
    "    brand_prices = []\n",
    "    for i in range(0,len(brand_car)):\n",
    "        brand_car_details.append(brand_car[i].text)\n",
    "        brand_prices.append(brand_price[i].text)\n",
    "    Brand_car = pd.DataFrame(brand_car_details)\n",
    "    Brand_car.to_csv(\"Car.csv\",mode='a')\n",
    "    Brand_price = pd.DataFrame(brand_prices)\n",
    "    Brand_price.to_csv(\"Price.csv\",mode='a')\n"
   ]
  },
  {
   "cell_type": "code",
   "execution_count": null,
   "id": "8eed657d-d9d9-416b-8d74-22f68fb22dea",
   "metadata": {
    "tags": []
   },
   "outputs": [],
   "source": [
    "bike_manufacturer = zigwheel_html.find_all(\"div\",{\"class\":\"sl-card sh mb-10 pt-10\"})\n",
    "bike_manufacturers = []\n",
    "for i in bike_manufacturer:\n",
    "    bike_manufacturers.append('https://www.zigwheels.com'+i.a['href'])\n",
    "\n",
    "for i in range(0,len(bike_manufacturers)):\n",
    "    bike_brand = bike_manufacturers[i]\n",
    "    bike_client = urlopen(bike_brand)\n",
    "    bike_read = bike_client.read()\n",
    "    bike_html = bs(bike_read,'lxml')\n",
    "    bike_model = bike_html.find_all(\"h3\",{\"class\":\"lnk-hvr fnt-16 b block of-hid h-height ml-0 mb-0-imp\"})\n",
    "    bike_price = bike_html.find_all(\"div\",{\"class\":\"clr-bl\"})\n",
    "    bike_model_details =[]\n",
    "    bike_prices = []\n",
    "    for i in range(0,len(bike_model)):\n",
    "        bike_model_details.append(bike_model[i].text)\n",
    "        bike_prices.append(bike_price[i].text)\n",
    "    Bike_model = pd.DataFrame(bike_model_details)\n",
    "    Bike_price = pd.DataFrame(bike_prices)\n",
    "    Bike_model.to_csv(\"Bike.csv\",mode='a')\n",
    "    Bike_price.to_csv(\"Bike_Price.csv\",mode='a')"
   ]
  },
  {
   "cell_type": "code",
   "execution_count": null,
   "id": "269d6b70-6ef5-433f-9797-acb0a11aafa8",
   "metadata": {},
   "outputs": [],
   "source": []
  }
 ],
 "metadata": {
  "kernelspec": {
   "display_name": "Python 3 (ipykernel)",
   "language": "python",
   "name": "python3"
  },
  "language_info": {
   "codemirror_mode": {
    "name": "ipython",
    "version": 3
   },
   "file_extension": ".py",
   "mimetype": "text/x-python",
   "name": "python",
   "nbconvert_exporter": "python",
   "pygments_lexer": "ipython3",
   "version": "3.11.5"
  }
 },
 "nbformat": 4,
 "nbformat_minor": 5
}
